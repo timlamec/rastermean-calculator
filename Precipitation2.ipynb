{
 "cells": [
  {
   "cell_type": "markdown",
   "metadata": {},
   "source": [
    "OOP code"
   ]
  },
  {
   "cell_type": "code",
   "execution_count": null,
   "metadata": {},
   "outputs": [],
   "source": [
    "import os\n",
    "import gdal\n",
    "import numpy as np"
   ]
  },
  {
   "cell_type": "code",
   "execution_count": null,
   "metadata": {},
   "outputs": [],
   "source": [
    "class RasterMeanCalculator:\n",
    "    def __init__(self, input_path, output_path, aoi, clipped):\n",
    "        self.input_path = input_path\n",
    "        self.output_path = output_path\n",
    "        self.aoi = aoi\n",
    "        self.clipped = clipped\n",
    "\n",
    "    def read_input_tiff_files(self):\n",
    "        raster_list = [raster for raster in os.listdir(self.input_path) if raster[-4:] == '.tif']\n",
    "        print(raster_list, 'raster_list')\n",
    "        return raster_list\n",
    "\n",
    "    def clip_images_to_size_vector_file(self):\n",
    "        for raster in self.read_input_tiff_files():\n",
    "            print(self.output_path + raster[:-4] + raster[-4:])\n",
    "            options = gdal.WarpOptions(cutlineDSName=self.aoi, cropToCutline=True)\n",
    "            try:\n",
    "                gdal.Warp(\n",
    "                    srcDSOrSrcDSTab=self.input_path + raster,\n",
    "                    destNameOrDestDS=self.output_path + raster[:-4] + raster[-4:],\n",
    "                    options=options\n",
    "                )\n",
    "            except Exception as e:\n",
    "                print(e)\n",
    "                pass\n",
    "        return True\n",
    "\n",
    "    def calculate_mean_of_clipped_images(self):\n",
    "        self.clip_images_to_size_vector_file()\n",
    "        res = []\n",
    "        for raster in self.clipped:\n",
    "            ds = gdal.Open(raster)\n",
    "            res.append(ds.GetRasterBand(1).ReadAsArray())\n",
    "        stacked = np.dstack(res)\n",
    "        mean = np.mean(stacked, axis=-1)\n",
    "        driver = gdal.GetDriverByName('Geotiff')\n",
    "        result = driver.CreateCopy('mean_precipitation.tif', gdal.Open(clipped[0]))\n",
    "        result.GetRasterBand(1).WriteArray(mean)\n",
    "        result = None"
   ]
  },
  {
   "cell_type": "code",
   "execution_count": null,
   "metadata": {},
   "outputs": [],
   "source": [
    "if __name__ == '__main__':\n",
    "    raster_mean_calculator = RasterMeanCalculator(\n",
    "        input_path=r'E:\\images for icha\\Cropland masks\\Cropland masks',\n",
    "        output_path=r'D:\\assign',\n",
    "        aoi=r'E:\\DL_Invasion\\Outputs\\vector\\vectors sent\\new\\subcounty shapefilesCounty.shp\\Bura.shp',\n",
    "        clipped=r'D:\\assign\\Output'\n",
    "    )\n",
    "    raster_mean_calculator.calculate_mean_of_clipped_images()\n",
    "    print(\"Done executing function\")"
   ]
  },
  {
   "cell_type": "code",
   "execution_count": null,
   "metadata": {},
   "outputs": [],
   "source": []
  },
  {
   "cell_type": "code",
   "execution_count": null,
   "metadata": {},
   "outputs": [],
   "source": []
  },
  {
   "cell_type": "code",
   "execution_count": null,
   "metadata": {},
   "outputs": [],
   "source": []
  },
  {
   "cell_type": "code",
   "execution_count": null,
   "metadata": {},
   "outputs": [],
   "source": []
  },
  {
   "cell_type": "code",
   "execution_count": null,
   "metadata": {},
   "outputs": [],
   "source": []
  }
 ],
 "metadata": {
  "kernelspec": {
   "display_name": "Python 3 (ipykernel)",
   "language": "python",
   "name": "python3"
  },
  "language_info": {
   "codemirror_mode": {
    "name": "ipython",
    "version": 3
   },
   "file_extension": ".py",
   "mimetype": "text/x-python",
   "name": "python",
   "nbconvert_exporter": "python",
   "pygments_lexer": "ipython3",
   "version": "3.8.12"
  }
 },
 "nbformat": 4,
 "nbformat_minor": 4
}
