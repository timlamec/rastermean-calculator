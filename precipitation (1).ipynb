{
 "cells": [
  {
   "cell_type": "markdown",
   "metadata": {},
   "source": [
    "functional code\n"
   ]
  },
  {
   "cell_type": "code",
   "execution_count": null,
   "metadata": {},
   "outputs": [],
   "source": [
    "\n",
    "\n",
    "\n",
    "#code inputs several raster/image datasets and one vector file.\n",
    "#then clips the images to the vector file one by one\n",
    "#then uses GDAL to find mean of the images\n",
    "\n",
    "import os"
   ]
  },
  {
   "cell_type": "code",
   "execution_count": null,
   "metadata": {},
   "outputs": [],
   "source": [
    "import gdal\n",
    "import numpy as np"
   ]
  },
  {
   "cell_type": "code",
   "execution_count": null,
   "metadata": {},
   "outputs": [],
   "source": [
    "#files input and output for the images\n",
    "inputPath = r'E:\\images for icha\\Cropland masks\\Cropland masks'\n",
    "outputPath = r'D:\\assign'\n"
   ]
  },
  {
   "cell_type": "code",
   "execution_count": null,
   "metadata": {},
   "outputs": [],
   "source": []
  },
  {
   "cell_type": "code",
   "execution_count": null,
   "metadata": {},
   "outputs": [],
   "source": [
    "#reads the folder to only input .tif files\n",
    "rasterlist = [raster for raster in os.listdir(inputPath) if raster[-4:]=='.tif']\n",
    "print (rasterlist)"
   ]
  },
  {
   "cell_type": "code",
   "execution_count": null,
   "metadata": {},
   "outputs": [],
   "source": [
    "#inputs a vector file\n",
    "aoi = '/home/tim/Desktop/gdal work/County.shp'"
   ]
  },
  {
   "cell_type": "code",
   "execution_count": null,
   "metadata": {},
   "outputs": [],
   "source": [
    "#clips images to vector shapefile\n",
    "for raster in rasterlist:\n",
    "    print(outputPath+raster[:-4]+raster[-4:])\n",
    "    options = gdal.WarpOptions(cutlineDSName=aoi,cropToCutline=True)\n",
    "    outraster = gdal.Warp(srcDSOrSrcDSTab=inputPath+raster,\n",
    "                         destNameOrDestDS=outputPath+raster[:-4]+raster[-4:],\n",
    "                         options=options\n",
    "                         )\n",
    "    outraster = None"
   ]
  },
  {
   "cell_type": "code",
   "execution_count": null,
   "metadata": {},
   "outputs": [],
   "source": [
    "#calculates mean of clipped images\n",
    "clipped = '/home/tim/Desktop/gdal work/Output'\n",
    "res = []\n",
    "for raster in clipped:\n",
    "    ds = gdal.Open(raster)\n",
    "    res.append(ds.GetRasterBand(1).ReadAsArray())\n",
    "stacked = np.dstack(res)\n",
    "mean = np.mean(stacked, axis=-1)\n",
    "driver = gdal.GetDriverByName('Geotiff')\n",
    "result = driver.CreateCopy('mean_precipitation.tif', gdal.Open(clipped[0]))\n",
    "result.GetRasterBand(1).WriteArray(mean)\n",
    "result = None"
   ]
  },
  {
   "cell_type": "code",
   "execution_count": null,
   "metadata": {},
   "outputs": [],
   "source": []
  }
 ],
 "metadata": {
  "kernelspec": {
   "display_name": "Python 3 (ipykernel)",
   "language": "python",
   "name": "python3"
  },
  "language_info": {
   "codemirror_mode": {
    "name": "ipython",
    "version": 3
   },
   "file_extension": ".py",
   "mimetype": "text/x-python",
   "name": "python",
   "nbconvert_exporter": "python",
   "pygments_lexer": "ipython3",
   "version": "3.8.12"
  }
 },
 "nbformat": 4,
 "nbformat_minor": 4
}
